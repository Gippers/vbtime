{
 "cells": [
  {
   "cell_type": "markdown",
   "metadata": {},
   "source": [
    "# Scrape Game Data\n",
    "\n",
    "> Scrapes VACT Game data"
   ]
  },
  {
   "cell_type": "code",
   "execution_count": null,
   "metadata": {},
   "outputs": [],
   "source": [
    "#| default_exp scrape_game_data"
   ]
  },
  {
   "cell_type": "code",
   "execution_count": null,
   "metadata": {},
   "outputs": [],
   "source": [
    "#| export\n",
    "from nbdev.showdoc import *\n",
    "import pandas as pd, pathlib\n",
    "#import gluonts\n",
    "from nbdev import *\n",
    "import urllib.request\n",
    "from bs4 import BeautifulSoup\n",
    "from fastcore.test import *\n",
    "import re\n"
   ]
  },
  {
   "cell_type": "markdown",
   "metadata": {},
   "source": [
    "TODO \n",
    "- check the connection works\n",
    "- Scrape the web page\n",
    "- format correctly the\n",
    "- place into dataframes\n",
    "- if small, save locally\n",
    "\n",
    "See ivi for ideas on how to do.\n",
    "\n",
    "# How to scrape website with bs4\n",
    "#https://www.geeksforgeeks.org/how-to-scrape-data-from-local-html-files-using-python/"
   ]
  },
  {
   "cell_type": "code",
   "execution_count": null,
   "metadata": {},
   "outputs": [],
   "source": [
    "#| export\n",
    "def foo(): pass"
   ]
  },
  {
   "cell_type": "code",
   "execution_count": null,
   "metadata": {},
   "outputs": [],
   "source": [
    "#| hide\n",
    "import nbdev; nbdev.nbdev_export()"
   ]
  }
 ],
 "metadata": {
  "kernelspec": {
   "display_name": "Python 3 (ipykernel)",
   "language": "python",
   "name": "python3"
  }
 },
 "nbformat": 4,
 "nbformat_minor": 4
}
